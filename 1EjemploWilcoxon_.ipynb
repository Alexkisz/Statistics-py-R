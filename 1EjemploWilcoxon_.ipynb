{
  "nbformat": 4,
  "nbformat_minor": 0,
  "metadata": {
    "colab": {
      "provenance": []
    },
    "kernelspec": {
      "name": "ir",
      "display_name": "R"
    },
    "language_info": {
      "name": "R"
    }
  },
  "cells": [
    {
      "cell_type": "code",
      "execution_count": null,
      "metadata": {
        "colab": {
          "base_uri": "https://localhost:8080/"
        },
        "id": "Uf5oRUuuC4Um",
        "outputId": "3261fd96-a370-4e76-c24a-ee854fb417a6"
      },
      "outputs": [
        {
          "output_type": "stream",
          "name": "stderr",
          "text": [
            "Warning message in wilcox.test.default(medicion2, medicion1, paired = TRUE, alternative = c(\"greater\")):\n",
            "“cannot compute exact p-value with ties”\n",
            "Warning message in wilcox.test.default(medicion2, medicion1, paired = TRUE, alternative = c(\"greater\")):\n",
            "“cannot compute exact p-value with zeroes”\n"
          ]
        },
        {
          "output_type": "stream",
          "name": "stdout",
          "text": [
            "\n",
            "\tWilcoxon signed rank test with continuity correction\n",
            "\n",
            "data:  medicion2 and medicion1\n",
            "V = 28, p-value = 0.01007\n",
            "alternative hypothesis: true location shift is greater than 0\n",
            "\n"
          ]
        }
      ],
      "source": [
        "# Organizar los datos en dos vectores\n",
        "medicion1 <- c(23, 7, 7, 12, 11, 8, 15, 12)\n",
        "medicion2 <- c(36, 7, 9, 13, 13, 10, 17, 20)\n",
        "\n",
        "# Realizar la prueba de rangos con signo de Wilcoxon\n",
        "resultado_prueba <- wilcox.test(medicion2, medicion1, paired = TRUE,  alternative = c(\"greater\"))\n",
        "\n",
        "# Mostrar el resultado\n",
        "print(resultado_prueba)"
      ]
    }
  ]
}