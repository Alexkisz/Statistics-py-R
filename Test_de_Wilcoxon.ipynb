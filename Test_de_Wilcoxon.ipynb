{
  "nbformat": 4,
  "nbformat_minor": 0,
  "metadata": {
    "colab": {
      "provenance": []
    },
    "kernelspec": {
      "name": "python3",
      "display_name": "Python 3"
    },
    "language_info": {
      "name": "python"
    }
  },
  "cells": [
    {
      "cell_type": "markdown",
      "source": [
        "#Test Wilcoxon, Ejemplo 2.2.1."
      ],
      "metadata": {
        "id": "wF4A0hUvCkZz"
      }
    },
    {
      "cell_type": "code",
      "execution_count": null,
      "metadata": {
        "colab": {
          "base_uri": "https://localhost:8080/"
        },
        "id": "3O5muFXlEDw2",
        "outputId": "d1f31e2b-94d1-4a6b-b93b-235439359140"
      },
      "outputs": [
        {
          "output_type": "execute_result",
          "data": {
            "text/plain": [
              "WilcoxonResult(statistic=5.0, pvalue=0.01953125)"
            ]
          },
          "metadata": {},
          "execution_count": 4
        }
      ],
      "source": [
        "import scipy.stats as stats\n",
        "\n",
        "group1 = [1.83, 0.5, 1.62, 2.48, 1.68, 1.88, 1.55, 3.06, 1.3]\n",
        "group2 = [0.878, 0.647, 0.598, 2.05, 1.06, 1.29, 1.06, 3.14, 1.29]\n",
        "\n",
        "# conduct the Wilcoxon-Signed Rank Test\n",
        "stats.wilcoxon(group2, group1, alternative= \"less\")\n"
      ]
    },
    {
      "cell_type": "markdown",
      "source": [
        "# Test Wilcoxon, U Mann Whitney, Ejemplo 2.3.1"
      ],
      "metadata": {
        "id": "7OJa8m-JB0Wq"
      }
    },
    {
      "cell_type": "code",
      "source": [
        "\n",
        "import scipy.stats as stats\n",
        "\n",
        "\n",
        "group1 = [0.8, 0.83, 1.89, 1.04, 1.45, 1.38, 1.91, 1.64, 0.73, 1.46]\n",
        "group2 = [1.15, 0.88, 0.9, 0.74, 1.21]\n",
        "\n",
        "\n",
        "\n",
        "# perform two-sided test. You can use 'greater' or 'less' for one-sided test\n",
        "stats.mannwhitneyu(group2, group1, alternative = 'less')"
      ],
      "metadata": {
        "colab": {
          "base_uri": "https://localhost:8080/"
        },
        "id": "YYjoB3SPCxTz",
        "outputId": "99856256-1a34-4ec9-f7ca-3f90cd73834b"
      },
      "execution_count": null,
      "outputs": [
        {
          "output_type": "execute_result",
          "data": {
            "text/plain": [
              "MannwhitneyuResult(statistic=15.0, pvalue=0.1272061272061272)"
            ]
          },
          "metadata": {},
          "execution_count": 3
        }
      ]
    },
    {
      "cell_type": "code",
      "source": [
        "import scipy.stats as stats\n",
        "\n",
        "group1 = [23, 7, 7, 12, 11, 8, 15, 12]\n",
        "group2 = [36, 7, 9, 13, 13, 10, 17, 20]\n",
        "\n",
        "# conduct the Wilcoxon-Signed Rank Test\n",
        "stats.wilcoxon(group2, group1, alternative= \"greater\")\n"
      ],
      "metadata": {
        "colab": {
          "base_uri": "https://localhost:8080/"
        },
        "id": "VlUScpLqMw7h",
        "outputId": "bee37142-e0b6-40b2-d8ed-3b8340e472f1"
      },
      "execution_count": null,
      "outputs": [
        {
          "output_type": "execute_result",
          "data": {
            "text/plain": [
              "WilcoxonResult(statistic=28.0, pvalue=0.00797940233269714)"
            ]
          },
          "metadata": {},
          "execution_count": 3
        }
      ]
    },
    {
      "cell_type": "markdown",
      "source": [
        "#Test Wilcoxon, U Mann Whitney, Ejemplo 2.3.2"
      ],
      "metadata": {
        "id": "q8FMO0TtLxkz"
      }
    },
    {
      "cell_type": "code",
      "source": [
        "import scipy.stats as stats\n",
        "\n",
        "\n",
        "group1 = [21.3, 18.7, 23, 17.1, 16.8, 20.9, 19.7]\n",
        "group2 = [14.2, 18.3, 17.2, 18.4, 20]\n",
        "\n",
        "\n",
        "\n",
        "# perform two-sided test. You can use 'greater' or 'less' for one-sided test\n",
        "stats.mannwhitneyu(group2, group1, alternative = 'less')"
      ],
      "metadata": {
        "colab": {
          "base_uri": "https://localhost:8080/"
        },
        "id": "Rc5iDotwL1yy",
        "outputId": "c2c5e2a5-ea69-4f72-edd7-d6c620c72fc1"
      },
      "execution_count": null,
      "outputs": [
        {
          "output_type": "execute_result",
          "data": {
            "text/plain": [
              "MannwhitneyuResult(statistic=10.0, pvalue=0.13383838383838387)"
            ]
          },
          "metadata": {},
          "execution_count": 5
        }
      ]
    }
  ]
}