{
  "nbformat": 4,
  "nbformat_minor": 0,
  "metadata": {
    "colab": {
      "provenance": [],
      "toc_visible": true
    },
    "kernelspec": {
      "name": "python3",
      "display_name": "Python 3"
    },
    "language_info": {
      "name": "python"
    }
  },
  "cells": [
    {
      "cell_type": "markdown",
      "source": [
        "# Librerías\n"
      ],
      "metadata": {
        "id": "wKpe4lpDgYmu"
      }
    },
    {
      "cell_type": "code",
      "source": [
        "from google.colab import drive ##comando para otorgar permisos (Darle a todo síii, hasta tu alma)\n",
        "\n",
        "drive.mount('/content/drive')   ##comando para otorgar permisos\n",
        "\n",
        "\n",
        "##librerías\n",
        "import pandas as pd\n",
        "import numpy as np\n",
        "import matplotlib as mt\n",
        "import seaborn as sd\n",
        "import matplotlib.pyplot as plt\n",
        "\n",
        "\n",
        "##Prueba de hipotesis\n",
        "\n",
        "import scipy.stats as stats\n",
        "\n",
        "\n",
        "\n"
      ],
      "metadata": {
        "id": "sO3RkM4Dg-L0",
        "colab": {
          "base_uri": "https://localhost:8080/"
        },
        "outputId": "c1f5fad6-7c4b-4172-9ab1-ba08459c882a"
      },
      "execution_count": null,
      "outputs": [
        {
          "output_type": "stream",
          "name": "stdout",
          "text": [
            "Mounted at /content/drive\n"
          ]
        }
      ]
    },
    {
      "cell_type": "markdown",
      "source": [
        "# Cargar Archivo\n"
      ],
      "metadata": {
        "id": "_9ZP8qP9g3kX"
      }
    },
    {
      "cell_type": "code",
      "source": [
        "\n",
        "\n",
        "# Lista los archivos en la carpeta MyDrive para verificar la ruta\n",
        "!ls /content/drive/MyDrive/ArchivosData/Estadistica2\n",
        "\n",
        "# Ruta al archivo Excel en Google Drive\n",
        "file_path = '/content/drive/MyDrive/ArchivosData/Estadistica2/DatosExportacionesPetroleras19882018.xlsx'\n",
        "\n",
        "# Leer el archivo Excel\n",
        "df = pd.read_excel(file_path, sheet_name='Hoja 1')\n",
        "\n",
        "##DF:  DataFrame estructura de datos en la biblioteca \"pandas\" que se utiliza para almacenar y manipular datos tabulares\n",
        "\n",
        "# Mostrar las primeras filas del DataFrame\n",
        "print(df.head(20))\n",
        "\n",
        "print(df.columns) ##Imprime las columnas (nombre de las variables)\n"
      ],
      "metadata": {
        "colab": {
          "base_uri": "https://localhost:8080/"
        },
        "id": "N-gZHyK7gy02",
        "outputId": "eb3883b8-785d-4e6f-8b8e-2efbb327bab7"
      },
      "execution_count": null,
      "outputs": [
        {
          "output_type": "stream",
          "name": "stdout",
          "text": [
            "DatosExportacionesPetroleras19882018.xlsx\n",
            "    Periodo   Dato\n",
            "0   1988/12  560.1\n",
            "1   1989/01  612.9\n",
            "2   1989/02  560.7\n",
            "3   1989/03  679.6\n",
            "4   1989/04  692.5\n",
            "5   1989/05  681.6\n",
            "6   1989/06  659.3\n",
            "7   1989/07  647.3\n",
            "8   1989/08  615.2\n",
            "9   1989/09  650.8\n",
            "10  1989/10  692.2\n",
            "11  1989/11  655.7\n",
            "12  1989/12  728.2\n",
            "13  1990/01  753.3\n",
            "14  1990/02  607.5\n",
            "15  1990/03  622.3\n",
            "16  1990/04  496.4\n",
            "17  1990/05  515.6\n",
            "18  1990/06  471.5\n",
            "19  1990/07  602.9\n",
            "Index(['Periodo', 'Dato'], dtype='object')\n"
          ]
        }
      ]
    },
    {
      "cell_type": "markdown",
      "source": [
        "# Estadística Descriptiva\n"
      ],
      "metadata": {
        "id": "-2nadUQ1gKA1"
      }
    },
    {
      "cell_type": "markdown",
      "source": [
        "Medidas de tendencia central"
      ],
      "metadata": {
        "id": "fnEBoy8LgR21"
      }
    },
    {
      "cell_type": "code",
      "source": [
        "media = df['Dato'].mean()\n",
        "mediana = df['Dato'].median()\n",
        "moda = df['Dato'].mode().iloc[0]\n",
        "\n",
        "print(media)\n",
        "print(mediana)\n",
        "print(moda)\n"
      ],
      "metadata": {
        "id": "Pz0SqN5fgVid",
        "colab": {
          "base_uri": "https://localhost:8080/"
        },
        "outputId": "3d5c5745-9b03-4d21-ccc4-bd49d0ae7b37"
      },
      "execution_count": null,
      "outputs": [
        {
          "output_type": "stream",
          "name": "stdout",
          "text": [
            "1994.994372222222\n",
            "1531.5995\n",
            "455.22\n"
          ]
        }
      ]
    },
    {
      "cell_type": "markdown",
      "source": [
        "Otras descripciones"
      ],
      "metadata": {
        "id": "Xp1qwQ0rhGC_"
      }
    },
    {
      "cell_type": "code",
      "source": [
        "desviacion = df['Dato'].std()\n",
        "rango = df['Dato'].max() - df['Dato'].min()\n",
        "cuartiles = df['Dato'].quantile([0.25,0.5,0.75])\n",
        "deciles = df['Dato'].quantile([0.1,0.3,0.7])\n",
        "percentiles = df['Dato'].quantile([0.1,0.81])\n",
        "asimetria = df['Dato'].skew()\n",
        "\n",
        "print(\"Desvicion\",desviacion)\n",
        "print(\"Rango\",rango)\n",
        "print(\"Cuartiles\",cuartiles)\n",
        "print(\"Deciles\",deciles)\n",
        "print(\"Percentiles:\",percentiles)\n",
        "print(\"Asimetria:\",asimetria)"
      ],
      "metadata": {
        "id": "yAFG_4LUhI2m"
      },
      "execution_count": null,
      "outputs": []
    },
    {
      "cell_type": "markdown",
      "source": [
        "# Graficación"
      ],
      "metadata": {
        "id": "rt7c4mV6i7Jw"
      }
    },
    {
      "cell_type": "markdown",
      "source": [
        "Histograma"
      ],
      "metadata": {
        "id": "K-1CkGm4jBGJ"
      }
    },
    {
      "cell_type": "code",
      "source": [
        "plt.hist(df[\"Dato\"], bins=10, edgecolor='black')\n",
        "plt.xlabel('datos')\n",
        "plt.ylabel('Frecuencia')\n",
        "plt.title('Histograma'.format(\"Dato\"))\n",
        "plt.show()"
      ],
      "metadata": {
        "id": "YWQg-gNEjC_5"
      },
      "execution_count": null,
      "outputs": []
    },
    {
      "cell_type": "markdown",
      "source": [
        "Gráfico de líneas"
      ],
      "metadata": {
        "id": "gjwV-ZRXjSRJ"
      }
    },
    {
      "cell_type": "code",
      "source": [
        "\n",
        "datos = df['Dato']\n",
        "plt.plot(datos.index, datos, marker='o', linestyle='-')\n",
        "plt.xlabel('Índice de datos')\n",
        "plt.ylabel('Valor')\n",
        "plt.title(''.format())\n",
        "plt.grid(True)\n",
        "plt.show()"
      ],
      "metadata": {
        "id": "R_i3iXVkjjGC"
      },
      "execution_count": null,
      "outputs": []
    },
    {
      "cell_type": "markdown",
      "source": [
        "Poligono de frecuencias"
      ],
      "metadata": {
        "id": "RVu-Jq6QlnvD"
      }
    },
    {
      "cell_type": "code",
      "source": [
        "D = 'Dato'\n",
        "frecuencias = df[D].value_counts().sort_index()\n",
        "\n",
        "\n",
        "valores = frecuencias.index.tolist()\n",
        "frecuencias = frecuencias.tolist()\n",
        "\n",
        "\n",
        "plt.plot(valores, frecuencias, marker='o', linestyle='-')\n",
        "plt.xlabel('Valores')\n",
        "plt.ylabel('Frecuencias')\n",
        "plt.title('Polígono de Frecuencias de {}'.format(D))\n",
        "plt.grid(True)\n",
        "plt.show()"
      ],
      "metadata": {
        "id": "tBzLuqr2lmjs"
      },
      "execution_count": null,
      "outputs": []
    },
    {
      "cell_type": "markdown",
      "source": [
        "Diagrama de cajas"
      ],
      "metadata": {
        "id": "eipr6xHGlyKf"
      }
    },
    {
      "cell_type": "code",
      "source": [
        "caja = 'Dato'\n",
        "\n",
        "datos = df[caja]\n",
        "\n",
        "plt.figure(figsize=(6,4))\n",
        "plt.boxplot(datos, vert=False)\n",
        "plt.xlabel('Datos')\n",
        "plt.ylabel('Valor')\n",
        "plt.title('Diagrama de Caja y Bigotes'.format(caja))\n",
        "plt.show()"
      ],
      "metadata": {
        "id": "2kV52pvql5G2"
      },
      "execution_count": null,
      "outputs": []
    },
    {
      "cell_type": "markdown",
      "source": [
        "# Muestreo Aleatorio simple"
      ],
      "metadata": {
        "id": "fNjzZfmQmD7l"
      }
    },
    {
      "cell_type": "markdown",
      "source": [
        "Especificando el tamaño de la muestra"
      ],
      "metadata": {
        "id": "FklUa1oqm94Q"
      }
    },
    {
      "cell_type": "code",
      "source": [
        "# Seleccionar 10 filas de forma aleatoria\n",
        "sample_df = df.sample(n=10)\n",
        "\n",
        "# Mostrar las filas seleccionadas\n",
        "print(sample_df)"
      ],
      "metadata": {
        "id": "J0YuujoSnCKo"
      },
      "execution_count": null,
      "outputs": []
    },
    {
      "cell_type": "markdown",
      "source": [
        "Especificando el porcentaje respecto de la población"
      ],
      "metadata": {
        "id": "rueAOqRlnCwH"
      }
    },
    {
      "cell_type": "code",
      "source": [
        "# Seleccionar el 10% de las filas de forma aleatoria\n",
        "sample_df = df.sample(frac=0.1)\n",
        "\n",
        "# Mostrar las filas seleccionadas\n",
        "print(sample_df)\n"
      ],
      "metadata": {
        "id": "SFbel07GnJQg"
      },
      "execution_count": null,
      "outputs": []
    },
    {
      "cell_type": "markdown",
      "source": [
        "Fijando una semilla"
      ],
      "metadata": {
        "id": "wrJXeIvFo3Y6"
      }
    },
    {
      "cell_type": "code",
      "source": [
        "#Sirve para en un principio tomar una muestra aleatoria, pero que no cambia al ejecutar el código repetidas veces\n",
        "\n",
        "# Seleccionar 10 filas de forma aleatoria con una semilla fija\n",
        "sample_df = df.sample(n=10, random_state=42)\n",
        "\n",
        "# Mostrar las filas seleccionadas\n",
        "print(sample_df)\n"
      ],
      "metadata": {
        "id": "bOY5W0ryo-JD"
      },
      "execution_count": null,
      "outputs": []
    },
    {
      "cell_type": "markdown",
      "source": [
        "# Prueba de hipotésis"
      ],
      "metadata": {
        "id": "ldYn8ZQHrESu"
      }
    },
    {
      "cell_type": "code",
      "source": [
        "a=df['Dato'] #Columna\n",
        "media = df['Dato'].mean() # media\n",
        "desviacion = df['Dato'].std()  #desviacion\n",
        "muestra = df['Dato'].sample(n=30) #Muestreo aleatorio\n",
        "\n",
        "media_muestral = muestra.mean()\n",
        "\n",
        "\n",
        "error_estandar=(desviacion/np.sqrt(30)) #Error =desviacio/ raiz de n(muestral)\n",
        "\n",
        "\n",
        "#estadistica Z\n",
        "\n",
        "Z=(media-media_muestral)/error_estandar\n",
        "print(\"Z es igual a {}\".format(Z))\n",
        "\n",
        "#Valor P\n",
        "\n",
        "P= 2* stats.norm.sf(abs(Z))\n",
        "print(\"P valor es igual a {}\".format(P))\n",
        "\n",
        "\n",
        "\n"
      ],
      "metadata": {
        "id": "He4PduHQrHvm"
      },
      "execution_count": null,
      "outputs": []
    },
    {
      "cell_type": "markdown",
      "source": [
        "# Prueba de hipotesis varianza"
      ],
      "metadata": {
        "id": "9ZfguyX8t5J5"
      }
    },
    {
      "cell_type": "code",
      "source": [
        "import scipy.stats as stats\n",
        "dg = pd.read_excel(\"/content/drive/MyDrive/ArchivosData/Estadistica2/DatosExportacionesPetroleras19882018.xlsx\",index_col=0, sheet_name=\"Hoja 2\")\n",
        "dg.shape\n",
        "dg.head()\n",
        "\n",
        "import math\n",
        "a=dg['Dato4'] #Calderon\n",
        "b=dg['Dato5']#Peña\n",
        "\n",
        "\n",
        "media = df['Dato'].mean() # media\n",
        "desviacion = df['Dato'].std()  #desviacion\n",
        "muestra_Calderon = dg['Dato4'].sample(n=10) #Muestreo  calderon\n",
        "muestra_pena = dg['Dato5'].sample(n=10) #Muestreo Pena\n",
        "m=10\n",
        "Varianza_Calderon = muestra_Calderon.var()\n",
        "Varianza_Pena = muestra_pena.var()\n",
        "print('la Varianza_Calderon es igual a ',Varianza_Calderon)\n",
        "print('la Varianza_Pena es igual a ',Varianza_Pena)\n",
        "xc= ((m-1)*Varianza_Pena)/Varianza_Calderon\n",
        "print('Xc igual a ',xc)\n",
        "print('xc(0.05,9) = 16,9190' )\n",
        "print('por lo tanto no se rechaza la hipotes h0')\n",
        "\n",
        "desvi_c =dg['Dato4'].std()\n",
        "\n",
        "desvi_p= dg['Dato5'].std()\n",
        "\n",
        "T= (Varianza_Calderon/desvi_c)/(Varianza_Pena/desvi_p)\n",
        "\n",
        "print('Es:  ',T)\n",
        "\n",
        "\n",
        "from scipy.stats import f\n",
        "\n",
        "F = a.var() / b.var()\n",
        "p_value = f.cdf(F, muestra_Calderon, muestra_pena)\n",
        "print(p_value)\n"
      ],
      "metadata": {
        "id": "uxTK3awat6sL"
      },
      "execution_count": null,
      "outputs": []
    }
  ]
}