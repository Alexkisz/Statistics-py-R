{
  "nbformat": 4,
  "nbformat_minor": 0,
  "metadata": {
    "colab": {
      "provenance": []
    },
    "kernelspec": {
      "name": "ir",
      "display_name": "R"
    },
    "language_info": {
      "name": "R"
    }
  },
  "cells": [
    {
      "cell_type": "markdown",
      "source": [
        "#Análisis de la póbreza en México"
      ],
      "metadata": {
        "id": "B2RIovZ_lLd7"
      }
    },
    {
      "cell_type": "code",
      "source": [
        "## La librería que ocuparemos es lmtest\n",
        "## Con un p-value < alpha se rechazan todas las pruebas, Y se afirma que es un buen modelo predictor\n",
        "## Con p-value < alpha se rechaza la H_0\n",
        "\n",
        "install.packages(\"lmtest\")\n",
        "library(lmtest)\n",
        "\n",
        "\n",
        "install.packages(\"nortest\")  ##para la funcion ad.test() distribución normal\n",
        "library(nortest)\n",
        "\n"
      ],
      "metadata": {
        "colab": {
          "base_uri": "https://localhost:8080/"
        },
        "id": "gcyL-fWCpOyP",
        "outputId": "b6e56a2f-fed2-4b7f-b903-5aeab6a6952a"
      },
      "execution_count": null,
      "outputs": [
        {
          "output_type": "stream",
          "name": "stderr",
          "text": [
            "Installing package into ‘/usr/local/lib/R/site-library’\n",
            "(as ‘lib’ is unspecified)\n",
            "\n",
            "also installing the dependency ‘zoo’\n",
            "\n",
            "\n",
            "Loading required package: zoo\n",
            "\n",
            "\n",
            "Attaching package: ‘zoo’\n",
            "\n",
            "\n",
            "The following objects are masked from ‘package:base’:\n",
            "\n",
            "    as.Date, as.Date.numeric\n",
            "\n",
            "\n",
            "Installing package into ‘/usr/local/lib/R/site-library’\n",
            "(as ‘lib’ is unspecified)\n",
            "\n"
          ]
        }
      ]
    },
    {
      "cell_type": "code",
      "source": [
        "entidades <- c(\"Aguascalientes\", \"Baja California\", \"Baja California Sur\", \"Campeche\", \"Coahuila\", \"Colima\", \"Chiapas\", \"Chihuahua\", \"Distrito Federal\", \"Durango\", \"Guanajuato\", \"Guerrero\", \"Hidalgo\", \"Jalisco\", \"México\", \"Michoacán\", \"Morelos\", \"Nayarit\", \"Nuevo León\", \"Oaxaca\", \"Puebla\", \"Querétaro\", \"Quintana Roo\", \"San Luis Potosí\", \"Sinaloa\", \"Sonora\", \"Tabasco\", \"Tamaulipas\", \"Tlaxcala\", \"Veracruz\", \"Yucatán\", \"Zacatecas\")\n",
        "X <- c(442.9, 984.9, 226.2, 391.0, 885.8, 244.9, 3961.0, 1265.5, 2502.5, 761.2, 2683.3, 2315.4, 1547.8, 2780.2, 8269.9, 2708.6, 993.7, 488.8, 1022.7, 2662.7, 3958.8, 675.7, 553.0, 1338.1, 1167.1, 852.1, 1169.8, 1330.7, 745.1, 4634.2, 957.9, 819.8)\n",
        "Y <- c(369.7, 789.1, 175.6, 405.0, 745.9, 248.7, 4114.0, 1150.0, 2434.4, 643.3, 2489.7, 2314.7, 1478.8, 2560.6, 8230.2, 2565.9, 965.9, 470.1, 737.8, 2847.3, 3728.2, 635.7, 471.0, 1267.7, 929.7, 831.4, 1228.1, 1156.2, 701.8, 5049.5, 901.9, 780.3)\n",
        "\n",
        "  MRL <- lm(Y~X)\n",
        "\n",
        "  summary(lm_model)\n",
        "\n"
      ],
      "metadata": {
        "colab": {
          "base_uri": "https://localhost:8080/",
          "height": 473
        },
        "id": "rTk1QLP_pPIu",
        "outputId": "3cac8029-8275-4f6c-a5a5-e8f7a7f5d53a"
      },
      "execution_count": null,
      "outputs": [
        {
          "output_type": "display_data",
          "data": {
            "text/plain": [
              "\n",
              "Call:\n",
              "lm(formula = Y ~ X)\n",
              "\n",
              "Residuals:\n",
              "    Min      1Q  Median      3Q     Max \n",
              "-213.52 -102.57    6.26   50.15  419.35 \n",
              "\n",
              "Coefficients:\n",
              "             Estimate Std. Error t value Pr(>|t|)    \n",
              "(Intercept) -93.46671   34.49160   -2.71    0.011 *  \n",
              "X             1.01930    0.01449   70.32   <2e-16 ***\n",
              "---\n",
              "Signif. codes:  0 ‘***’ 0.001 ‘**’ 0.01 ‘*’ 0.05 ‘.’ 0.1 ‘ ’ 1\n",
              "\n",
              "Residual standard error: 134 on 30 degrees of freedom\n",
              "Multiple R-squared:  0.994,\tAdjusted R-squared:  0.9938 \n",
              "F-statistic:  4945 on 1 and 30 DF,  p-value: < 2.2e-16\n"
            ]
          },
          "metadata": {}
        },
        {
          "output_type": "display_data",
          "data": {
            "text/html": [
              "<table class=\"dataframe\">\n",
              "<caption>A anova: 2 × 5</caption>\n",
              "<thead>\n",
              "\t<tr><th></th><th scope=col>Df</th><th scope=col>Sum Sq</th><th scope=col>Mean Sq</th><th scope=col>F value</th><th scope=col>Pr(&gt;F)</th></tr>\n",
              "\t<tr><th></th><th scope=col>&lt;int&gt;</th><th scope=col>&lt;dbl&gt;</th><th scope=col>&lt;dbl&gt;</th><th scope=col>&lt;dbl&gt;</th><th scope=col>&lt;dbl&gt;</th></tr>\n",
              "</thead>\n",
              "<tbody>\n",
              "\t<tr><th scope=row>X</th><td> 1</td><td>88820007.5</td><td>88820007.54</td><td>4945.098</td><td>7.34153e-35</td></tr>\n",
              "\t<tr><th scope=row>Residuals</th><td>30</td><td>  538836.7</td><td>   17961.22</td><td>      NA</td><td>         NA</td></tr>\n",
              "</tbody>\n",
              "</table>\n"
            ],
            "text/markdown": "\nA anova: 2 × 5\n\n| <!--/--> | Df &lt;int&gt; | Sum Sq &lt;dbl&gt; | Mean Sq &lt;dbl&gt; | F value &lt;dbl&gt; | Pr(&gt;F) &lt;dbl&gt; |\n|---|---|---|---|---|---|\n| X |  1 | 88820007.5 | 88820007.54 | 4945.098 | 7.34153e-35 |\n| Residuals | 30 |   538836.7 |    17961.22 |       NA |          NA |\n\n",
            "text/latex": "A anova: 2 × 5\n\\begin{tabular}{r|lllll}\n  & Df & Sum Sq & Mean Sq & F value & Pr(>F)\\\\\n  & <int> & <dbl> & <dbl> & <dbl> & <dbl>\\\\\n\\hline\n\tX &  1 & 88820007.5 & 88820007.54 & 4945.098 & 7.34153e-35\\\\\n\tResiduals & 30 &   538836.7 &    17961.22 &       NA &          NA\\\\\n\\end{tabular}\n",
            "text/plain": [
              "          Df Sum Sq     Mean Sq     F value  Pr(>F)     \n",
              "X          1 88820007.5 88820007.54 4945.098 7.34153e-35\n",
              "Residuals 30   538836.7    17961.22       NA          NA"
            ]
          },
          "metadata": {}
        }
      ]
    },
    {
      "cell_type": "markdown",
      "source": [
        "# Media distinta de cero"
      ],
      "metadata": {
        "id": "_Z0QQ3AgxsPr"
      }
    },
    {
      "cell_type": "code",
      "source": [
        "\n",
        "## Obtener los residuos:\n",
        "## Residuos: Diferencias entre los valores de la variable dependiente observados y los valores que predecimos a partir de nuestra recta de regresión.\n",
        "\n",
        "\n",
        "\n",
        "\n",
        "res <- c(residuals(MRL))\n",
        "plot(res)\n",
        "abline(h=0,lty=2,col=\"red\") ##Grafica para la media cero\n",
        "t.test(res,alternative=c(\"two.sided\"), conf.level = 0.95, mu = 0)"
      ],
      "metadata": {
        "colab": {
          "base_uri": "https://localhost:8080/",
          "height": 628
        },
        "id": "2vEDmX36xuyA",
        "outputId": "db95aae9-bc23-4c06-d590-eb9fe283a767"
      },
      "execution_count": null,
      "outputs": [
        {
          "output_type": "display_data",
          "data": {
            "text/plain": [
              "\n",
              "\tOne Sample t-test\n",
              "\n",
              "data:  res\n",
              "t = -1.0927e-16, df = 31, p-value = 1\n",
              "alternative hypothesis: true mean is not equal to 0\n",
              "95 percent confidence interval:\n",
              " -47.53345  47.53345\n",
              "sample estimates:\n",
              "    mean of x \n",
              "-2.546791e-15 \n"
            ]
          },
          "metadata": {}
        },
        {
          "output_type": "display_data",
          "data": {
            "text/plain": [
              "plot without title"
            ],
            "image/png": "[encoded data removed]"
          },
          "metadata": {
            "image/png": {
              "width": 420,
              "height": 420
            }
          }
        }
      ]
    },
    {
      "cell_type": "markdown",
      "source": [
        "#Varianza constante"
      ],
      "metadata": {
        "id": "waAEZlfzxxBz"
      }
    },
    {
      "cell_type": "code",
      "source": [
        "bptest(MRL)"
      ],
      "metadata": {
        "colab": {
          "base_uri": "https://localhost:8080/",
          "height": 104
        },
        "id": "xmPektLhx7YZ",
        "outputId": "1f25c5d3-eac4-47bc-ba42-a0d1bb450764"
      },
      "execution_count": null,
      "outputs": [
        {
          "output_type": "display_data",
          "data": {
            "text/plain": [
              "\n",
              "\tstudentized Breusch-Pagan test\n",
              "\n",
              "data:  MRL\n",
              "BP = 6.3333, df = 1, p-value = 0.01185\n"
            ]
          },
          "metadata": {}
        }
      ]
    },
    {
      "cell_type": "markdown",
      "source": [
        "# Comprobación de no correlación"
      ],
      "metadata": {
        "id": "p1OI8Pc-x_1e"
      }
    },
    {
      "cell_type": "code",
      "source": [
        "res <- c(residuals(MRL))\n",
        "acf(res)\n",
        "dwtest(MRL)"
      ],
      "metadata": {
        "colab": {
          "base_uri": "https://localhost:8080/",
          "height": 541
        },
        "id": "Acp3sqxjyMlp",
        "outputId": "63fd8064-eedd-45fb-feeb-6ce26d792db6"
      },
      "execution_count": null,
      "outputs": [
        {
          "output_type": "display_data",
          "data": {
            "text/plain": [
              "\n",
              "\tDurbin-Watson test\n",
              "\n",
              "data:  MRL\n",
              "DW = 2.3366, p-value = 0.8253\n",
              "alternative hypothesis: true autocorrelation is greater than 0\n"
            ]
          },
          "metadata": {}
        },
        {
          "output_type": "display_data",
          "data": {
            "text/plain": [
              "Plot with title “Series  res”"
            ],
            "image/png": "[encoded data removed]"
          },
          "metadata": {
            "image/png": {
              "width": 420,
              "height": 420
            }
          }
        }
      ]
    },
    {
      "cell_type": "markdown",
      "source": [
        "# Comprobación de distribución normal"
      ],
      "metadata": {
        "id": "6EwTFiMvyXqi"
      }
    },
    {
      "cell_type": "code",
      "source": [
        "res <- c(residuals(MRL))\n",
        "\n",
        "#plot(MRL,2)\n",
        "\n",
        "ad.test(res)"
      ],
      "metadata": {
        "colab": {
          "base_uri": "https://localhost:8080/",
          "height": 104
        },
        "id": "hGG66GImybSq",
        "outputId": "e77f3e3e-39ea-49cd-bbe1-b5e3dbd983e4"
      },
      "execution_count": null,
      "outputs": [
        {
          "output_type": "display_data",
          "data": {
            "text/plain": [
              "\n",
              "\tAnderson-Darling normality test\n",
              "\n",
              "data:  res\n",
              "A = 0.4773, p-value = 0.2214\n"
            ]
          },
          "metadata": {}
        }
      ]
    }
  ]
}