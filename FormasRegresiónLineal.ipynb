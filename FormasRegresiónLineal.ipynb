{
  "cells": [
    {
      "cell_type": "code",
      "execution_count": null,
      "metadata": {
        "colab": {
          "base_uri": "https://localhost:8080/"
        },
        "id": "SDJUzAz5jAu2",
        "outputId": "2af57202-30e7-4c67-a29e-048bf993a998"
      },
      "outputs": [
        {
          "name": "stdout",
          "output_type": "stream",
          "text": [
            "\n",
            "Call:\n",
            "lm(formula = y ~ x, data = data)\n",
            "\n",
            "Coefficients:\n",
            "(Intercept)            x  \n",
            "     1.2205       0.7235  \n",
            "\n"
          ]
        }
      ],
      "source": [
        "# Create data frame\n",
        "data <- data.frame(x = c(3.0, 3.1, 3.0, 3.6, 3.8, 2.7, 3.1, 2.7, 2.7, 3.3, 3.2, 2.1, 3.0, 2.6),\n",
        "                   y = c(3.1, 3.9, 3.4, 4.0, 3.6, 3.6, 3.1, 3.6, 2.9, 3.6, 4.1, 2.6, 3.1, 2.8))\n",
        "\n",
        "# Fit linear regression model\n",
        "lm_model <- lm(y ~ x, data = data)\n",
        "\n",
        "print(lm_model)\n",
        "\n",
        "#Para y = 1.2205 + 0.7235x se descarta 1.2205 dado el intersecto, y se deja de la siguiente forma y = 0.7235x\n",
        "\n",
        "## Sólo se tuvo el problema con la normalidad, y se arregla con una transformación lineal.\n",
        "\n",
        "\n"
      ]
    },
    {
      "cell_type": "code",
      "execution_count": null,
      "metadata": {
        "colab": {
          "base_uri": "https://localhost:8080/",
          "height": 1000
        },
        "id": "WaWxJ1V1nsn0",
        "outputId": "86547986-a588-4415-fdb7-76685e3e288a"
      },
      "outputs": [
        {
          "data": {
            "text/html": [
              "<table class=\"dataframe\">\n",
              "<caption>A anova: 2 × 5</caption>\n",
              "<thead>\n",
              "\t<tr><th></th><th scope=col>Df</th><th scope=col>Sum Sq</th><th scope=col>Mean Sq</th><th scope=col>F value</th><th scope=col>Pr(&gt;F)</th></tr>\n",
              "\t<tr><th></th><th scope=col>&lt;int&gt;</th><th scope=col>&lt;dbl&gt;</th><th scope=col>&lt;dbl&gt;</th><th scope=col>&lt;dbl&gt;</th><th scope=col>&lt;dbl&gt;</th></tr>\n",
              "</thead>\n",
              "<tbody>\n",
              "\t<tr><th scope=row>X</th><td>2</td><td>122</td><td>61.0</td><td>7.176471</td><td>0.0164067</td></tr>\n",
              "\t<tr><th scope=row>Residuals</th><td>8</td><td> 68</td><td> 8.5</td><td>      NA</td><td>       NA</td></tr>\n",
              "</tbody>\n",
              "</table>\n"
            ],
            "text/latex": "A anova: 2 × 5\n\\begin{tabular}{r|lllll}\n  & Df & Sum Sq & Mean Sq & F value & Pr(>F)\\\\\n  & <int> & <dbl> & <dbl> & <dbl> & <dbl>\\\\\n\\hline\n\tX & 2 & 122 & 61.0 & 7.176471 & 0.0164067\\\\\n\tResiduals & 8 &  68 &  8.5 &       NA &        NA\\\\\n\\end{tabular}\n",
            "text/markdown": "\nA anova: 2 × 5\n\n| <!--/--> | Df &lt;int&gt; | Sum Sq &lt;dbl&gt; | Mean Sq &lt;dbl&gt; | F value &lt;dbl&gt; | Pr(&gt;F) &lt;dbl&gt; |\n|---|---|---|---|---|---|\n| X | 2 | 122 | 61.0 | 7.176471 | 0.0164067 |\n| Residuals | 8 |  68 |  8.5 |       NA |        NA |\n\n",
            "text/plain": [
              "          Df Sum Sq Mean Sq F value  Pr(>F)   \n",
              "X         2  122    61.0    7.176471 0.0164067\n",
              "Residuals 8   68     8.5          NA        NA"
            ]
          },
          "metadata": {},
          "output_type": "display_data"
        },
        {
          "data": {
            "text/plain": [
              "\n",
              "Call:\n",
              "lm(formula = y ~ X)\n",
              "\n",
              "Residuals:\n",
              "   Min     1Q Median     3Q    Max \n",
              "    -4     -2      1      2      3 \n",
              "\n",
              "Coefficients:\n",
              "            Estimate Std. Error t value Pr(>|t|)  \n",
              "(Intercept)  14.0000     6.0950   2.297   0.0507 .\n",
              "Xx_1         -2.0000     1.1984  -1.669   0.1337  \n",
              "Xx_2         -0.5000     0.5992  -0.834   0.4283  \n",
              "---\n",
              "Signif. codes:  0 ‘***’ 0.001 ‘**’ 0.01 ‘*’ 0.05 ‘.’ 0.1 ‘ ’ 1\n",
              "\n",
              "Residual standard error: 2.915 on 8 degrees of freedom\n",
              "Multiple R-squared:  0.6421,\tAdjusted R-squared:  0.5526 \n",
              "F-statistic: 7.176 on 2 and 8 DF,  p-value: 0.01641\n"
            ]
          },
          "metadata": {},
          "output_type": "display_data"
        },
        {
          "data": {
            "text/plain": [
              "\n",
              "Call:\n",
              "lm(formula = y ~ x_2 + x_1)\n",
              "\n",
              "Residuals:\n",
              "   Min     1Q Median     3Q    Max \n",
              "    -4     -2      1      2      3 \n",
              "\n",
              "Coefficients:\n",
              "            Estimate Std. Error t value Pr(>|t|)  \n",
              "(Intercept)  14.0000     6.0950   2.297   0.0507 .\n",
              "x_2          -0.5000     0.5992  -0.834   0.4283  \n",
              "x_1          -2.0000     1.1984  -1.669   0.1337  \n",
              "---\n",
              "Signif. codes:  0 ‘***’ 0.001 ‘**’ 0.01 ‘*’ 0.05 ‘.’ 0.1 ‘ ’ 1\n",
              "\n",
              "Residual standard error: 2.915 on 8 degrees of freedom\n",
              "Multiple R-squared:  0.6421,\tAdjusted R-squared:  0.5526 \n",
              "F-statistic: 7.176 on 2 and 8 DF,  p-value: 0.01641\n"
            ]
          },
          "metadata": {},
          "output_type": "display_data"
        },
        {
          "data": {
            "text/html": [
              "<table class=\"dataframe\">\n",
              "<caption>A anova: 2 × 5</caption>\n",
              "<thead>\n",
              "\t<tr><th></th><th scope=col>Df</th><th scope=col>Sum Sq</th><th scope=col>Mean Sq</th><th scope=col>F value</th><th scope=col>Pr(&gt;F)</th></tr>\n",
              "\t<tr><th></th><th scope=col>&lt;int&gt;</th><th scope=col>&lt;dbl&gt;</th><th scope=col>&lt;dbl&gt;</th><th scope=col>&lt;dbl&gt;</th><th scope=col>&lt;dbl&gt;</th></tr>\n",
              "</thead>\n",
              "<tbody>\n",
              "\t<tr><th scope=row>X</th><td>2</td><td>122</td><td>61.0</td><td>7.176471</td><td>0.0164067</td></tr>\n",
              "\t<tr><th scope=row>Residuals</th><td>8</td><td> 68</td><td> 8.5</td><td>      NA</td><td>       NA</td></tr>\n",
              "</tbody>\n",
              "</table>\n"
            ],
            "text/latex": "A anova: 2 × 5\n\\begin{tabular}{r|lllll}\n  & Df & Sum Sq & Mean Sq & F value & Pr(>F)\\\\\n  & <int> & <dbl> & <dbl> & <dbl> & <dbl>\\\\\n\\hline\n\tX & 2 & 122 & 61.0 & 7.176471 & 0.0164067\\\\\n\tResiduals & 8 &  68 &  8.5 &       NA &        NA\\\\\n\\end{tabular}\n",
            "text/markdown": "\nA anova: 2 × 5\n\n| <!--/--> | Df &lt;int&gt; | Sum Sq &lt;dbl&gt; | Mean Sq &lt;dbl&gt; | F value &lt;dbl&gt; | Pr(&gt;F) &lt;dbl&gt; |\n|---|---|---|---|---|---|\n| X | 2 | 122 | 61.0 | 7.176471 | 0.0164067 |\n| Residuals | 8 |  68 |  8.5 |       NA |        NA |\n\n",
            "text/plain": [
              "          Df Sum Sq Mean Sq F value  Pr(>F)   \n",
              "X         2  122    61.0    7.176471 0.0164067\n",
              "Residuals 8   68     8.5          NA        NA"
            ]
          },
          "metadata": {},
          "output_type": "display_data"
        }
      ],
      "source": [
        " x_0 = c(1,1,1,1,1,1,1,1,1,1,1)\n",
        " x_1 = c(1,4,9,11,3,8,5,10,2,7,6)\n",
        " x_2 = c(8,2,-8,-10, 6,-6,0,-12,4,-2,-4)\n",
        "y = c(6,8,1,0,5,3,2,-4,10,-3,5)\n",
        "\n",
        "\n",
        "\n",
        "##X <- matrix(c(1,1,1,1,1,1,1,1,1,1,1,  8,2,-8,-10, 6,-6,0,-12,4,-2,-4,  6,8,1,0,5,3,2,-4,10,-3,5), 11, 3)  Y = matrix(c(6,8,1,0,5,3,2,-4,10,-3,5), 11,1)\n",
        "\n",
        "## print(y)\n",
        "## print(X)\n",
        "\n",
        "##14, -2, 0.5\n",
        "\n",
        "\n",
        "## se combinan los predictores\n",
        "\n",
        "X <- cbind(x_1, x_2)\n",
        "\n",
        "\n",
        "##data <- data.frame(x = c(1,4,9,11,3,8,5,10,2,7,6) + c(8,2,-8,-10, 6,-6,0,-12,4,-2,-4), y = c(6,8,1,0,5,3,2,-4,10,-3,5))\n",
        "\n",
        "lm_model <- lm(y ~ X)\n",
        "lm2_model <- lm(y ~  x_2 +x_1  )\n",
        "\n",
        "anova(lm_model)\n",
        "\n",
        "summary(lm_model)\n",
        "\n",
        "\n",
        "summary(lm2_model)\n",
        "\n",
        "anova(lm_model)\n",
        "\n",
        "\n",
        "\n",
        "\n",
        "\n"
      ]
    },
    {
      "cell_type": "code",
      "execution_count": null,
      "metadata": {
        "colab": {
          "base_uri": "https://localhost:8080/"
        },
        "id": "N4VwllmwYHQE",
        "outputId": "524fc5fe-d49d-4bed-c9e4-3990fd2fd1be"
      },
      "outputs": [
        {
          "name": "stdout",
          "output_type": "stream",
          "text": [
            "        [,1]    [,2]    [,3]\n",
            "[1,]  4.3705 -0.8495 -0.4086\n",
            "[2,] -0.8495  0.1690  0.0822\n",
            "[3,] -0.4086  0.0822  0.0422\n"
          ]
        }
      ],
      "source": [
        "XXI <- matrix(c(4.3705, -0.8495, -0.4086, -0.8495, 0.1690, 0.0822, -0.4086, 0.0822, 0.0422), 3, 3)\n",
        "\n",
        "print(XXI)\n",
        "\n",
        "\n"
      ]
    },
    {
      "cell_type": "code",
      "execution_count": null,
      "metadata": {
        "colab": {
          "base_uri": "https://localhost:8080/",
          "height": 999
        },
        "id": "7l-TwksTYGnX",
        "outputId": "ad437c60-b68a-40fc-ca03-48c3b689c5db"
      },
      "outputs": [
        {
          "output_type": "display_data",
          "data": {
            "text/plain": [
              "\n",
              "Call:\n",
              "lm(formula = X ~ YZ)\n",
              "\n",
              "Residuals:\n",
              "      Min        1Q    Median        3Q       Max \n",
              "-0.093092 -0.052406 -0.003957  0.039411  0.130303 \n",
              "\n",
              "Coefficients:\n",
              "             Estimate Std. Error t value Pr(>|t|)\n",
              "(Intercept)  1.060889   2.933813   0.362    0.726\n",
              "YZY          0.005636   0.022495   0.251    0.808\n",
              "YZZ         -0.001316   0.009010  -0.146    0.887\n",
              "\n",
              "Residual standard error: 0.08059 on 9 degrees of freedom\n",
              "Multiple R-squared:  0.8018,\tAdjusted R-squared:  0.7577 \n",
              "F-statistic:  18.2 on 2 and 9 DF,  p-value: 0.0006876\n"
            ]
          },
          "metadata": {}
        },
        {
          "output_type": "display_data",
          "data": {
            "text/html": [
              "<table class=\"dataframe\">\n",
              "<caption>A anova: 2 × 5</caption>\n",
              "<thead>\n",
              "\t<tr><th></th><th scope=col>Df</th><th scope=col>Sum Sq</th><th scope=col>Mean Sq</th><th scope=col>F value</th><th scope=col>Pr(&gt;F)</th></tr>\n",
              "\t<tr><th></th><th scope=col>&lt;int&gt;</th><th scope=col>&lt;dbl&gt;</th><th scope=col>&lt;dbl&gt;</th><th scope=col>&lt;dbl&gt;</th><th scope=col>&lt;dbl&gt;</th></tr>\n",
              "</thead>\n",
              "<tbody>\n",
              "\t<tr><th scope=row>YZ</th><td>2</td><td>0.23641383</td><td>0.11820691</td><td>18.20035</td><td>0.0006875585</td></tr>\n",
              "\t<tr><th scope=row>Residuals</th><td>9</td><td>0.05845284</td><td>0.00649476</td><td>      NA</td><td>          NA</td></tr>\n",
              "</tbody>\n",
              "</table>\n"
            ],
            "text/markdown": "\nA anova: 2 × 5\n\n| <!--/--> | Df &lt;int&gt; | Sum Sq &lt;dbl&gt; | Mean Sq &lt;dbl&gt; | F value &lt;dbl&gt; | Pr(&gt;F) &lt;dbl&gt; |\n|---|---|---|---|---|---|\n| YZ | 2 | 0.23641383 | 0.11820691 | 18.20035 | 0.0006875585 |\n| Residuals | 9 | 0.05845284 | 0.00649476 |       NA |           NA |\n\n",
            "text/latex": "A anova: 2 × 5\n\\begin{tabular}{r|lllll}\n  & Df & Sum Sq & Mean Sq & F value & Pr(>F)\\\\\n  & <int> & <dbl> & <dbl> & <dbl> & <dbl>\\\\\n\\hline\n\tYZ & 2 & 0.23641383 & 0.11820691 & 18.20035 & 0.0006875585\\\\\n\tResiduals & 9 & 0.05845284 & 0.00649476 &       NA &           NA\\\\\n\\end{tabular}\n",
            "text/plain": [
              "          Df Sum Sq     Mean Sq    F value  Pr(>F)      \n",
              "YZ        2  0.23641383 0.11820691 18.20035 0.0006875585\n",
              "Residuals 9  0.05845284 0.00649476       NA           NA"
            ]
          },
          "metadata": {}
        },
        {
          "output_type": "display_data",
          "data": {
            "text/plain": [
              "\n",
              "Call:\n",
              "lm(formula = X ~ ZY)\n",
              "\n",
              "Residuals:\n",
              "      Min        1Q    Median        3Q       Max \n",
              "-0.093092 -0.052406 -0.003957  0.039411  0.130303 \n",
              "\n",
              "Coefficients:\n",
              "             Estimate Std. Error t value Pr(>|t|)\n",
              "(Intercept)  1.060889   2.933813   0.362    0.726\n",
              "ZYZ         -0.001316   0.009010  -0.146    0.887\n",
              "ZYY          0.005636   0.022495   0.251    0.808\n",
              "\n",
              "Residual standard error: 0.08059 on 9 degrees of freedom\n",
              "Multiple R-squared:  0.8018,\tAdjusted R-squared:  0.7577 \n",
              "F-statistic:  18.2 on 2 and 9 DF,  p-value: 0.0006876\n"
            ]
          },
          "metadata": {}
        },
        {
          "output_type": "display_data",
          "data": {
            "text/html": [
              "<table class=\"dataframe\">\n",
              "<caption>A anova: 2 × 5</caption>\n",
              "<thead>\n",
              "\t<tr><th></th><th scope=col>Df</th><th scope=col>Sum Sq</th><th scope=col>Mean Sq</th><th scope=col>F value</th><th scope=col>Pr(&gt;F)</th></tr>\n",
              "\t<tr><th></th><th scope=col>&lt;int&gt;</th><th scope=col>&lt;dbl&gt;</th><th scope=col>&lt;dbl&gt;</th><th scope=col>&lt;dbl&gt;</th><th scope=col>&lt;dbl&gt;</th></tr>\n",
              "</thead>\n",
              "<tbody>\n",
              "\t<tr><th scope=row>ZY</th><td>2</td><td>0.23641383</td><td>0.11820691</td><td>18.20035</td><td>0.0006875585</td></tr>\n",
              "\t<tr><th scope=row>Residuals</th><td>9</td><td>0.05845284</td><td>0.00649476</td><td>      NA</td><td>          NA</td></tr>\n",
              "</tbody>\n",
              "</table>\n"
            ],
            "text/markdown": "\nA anova: 2 × 5\n\n| <!--/--> | Df &lt;int&gt; | Sum Sq &lt;dbl&gt; | Mean Sq &lt;dbl&gt; | F value &lt;dbl&gt; | Pr(&gt;F) &lt;dbl&gt; |\n|---|---|---|---|---|---|\n| ZY | 2 | 0.23641383 | 0.11820691 | 18.20035 | 0.0006875585 |\n| Residuals | 9 | 0.05845284 | 0.00649476 |       NA |           NA |\n\n",
            "text/latex": "A anova: 2 × 5\n\\begin{tabular}{r|lllll}\n  & Df & Sum Sq & Mean Sq & F value & Pr(>F)\\\\\n  & <int> & <dbl> & <dbl> & <dbl> & <dbl>\\\\\n\\hline\n\tZY & 2 & 0.23641383 & 0.11820691 & 18.20035 & 0.0006875585\\\\\n\tResiduals & 9 & 0.05845284 & 0.00649476 &       NA &           NA\\\\\n\\end{tabular}\n",
            "text/plain": [
              "          Df Sum Sq     Mean Sq    F value  Pr(>F)      \n",
              "ZY        2  0.23641383 0.11820691 18.20035 0.0006875585\n",
              "Residuals 9  0.05845284 0.00649476       NA           NA"
            ]
          },
          "metadata": {}
        },
        {
          "output_type": "stream",
          "name": "stdout",
          "text": [
            "            Y         Z\n",
            "[1,] 0.895151 -0.894641\n",
            "             Z        Y\n",
            "[1,] -0.894641 0.895151\n",
            "[1] -0.9978391\n",
            "[1] -0.9978391\n"
          ]
        }
      ],
      "source": [
        "##Inciso B\n",
        "\n",
        "X <- c(1.52, 1.41, 1.16, 1.45, 1.24, 1.21, 1.63, 1.38, 1.37, 1.36, 1.40, 1.03)\n",
        "Y <- c(98, 76, 58,94, 73, 57, 97, 91, 79, 92, 92, 54)\n",
        "Z <- c(77, 139, 179, 95, 142, 186, 82, 100, 125, 96, 99, 190)\n",
        "\n",
        "YZ <- cbind(Y,Z)\n",
        "\n",
        "lm_model <- lm(X ~ YZ)\n",
        "\n",
        "summary(lm_model)\n",
        "\n",
        "anova(lm_model)\n",
        "\n",
        "\n",
        "ZY <- cbind(Z, Y)\n",
        "\n",
        "lm2_model <- lm(X ~ ZY)\n",
        "\n",
        "summary(lm2_model)\n",
        "\n",
        "anova(lm2_model)\n",
        "\n",
        "print(cor(X,cbind(Y,Z)))\n",
        "\n",
        "print(cor(X,cbind(Z,Y)))\n",
        "\n",
        "\n",
        "print(cor(Z,Y)) ##fuertemente correlacionado de forma negativa\n",
        "\n",
        "print(cor(Y,Z))\n",
        "\n",
        "\n",
        "\n"
      ]
    },
    {
      "cell_type": "code",
      "execution_count": null,
      "metadata": {
        "colab": {
          "base_uri": "https://localhost:8080/",
          "height": 969
        },
        "id": "dV70CpcTeQ59",
        "outputId": "a45ab2bf-9bc3-440c-904f-b311977f3cfb"
      },
      "outputs": [
        {
          "data": {
            "text/plain": [
              "\n",
              "Call:\n",
              "lm(formula = X ~ Y)\n",
              "\n",
              "Residuals:\n",
              "      Min        1Q    Median        3Q       Max \n",
              "-0.092903 -0.055674 -0.005264  0.042023  0.132522 \n",
              "\n",
              "Coefficients:\n",
              "            Estimate Std. Error t value Pr(>|t|)    \n",
              "(Intercept) 0.632730   0.114577   5.522 0.000254 ***\n",
              "Y           0.008915   0.001404   6.350 8.35e-05 ***\n",
              "---\n",
              "Signif. codes:  0 ‘***’ 0.001 ‘**’ 0.01 ‘*’ 0.05 ‘.’ 0.1 ‘ ’ 1\n",
              "\n",
              "Residual standard error: 0.07655 on 10 degrees of freedom\n",
              "Multiple R-squared:  0.8013,\tAdjusted R-squared:  0.7814 \n",
              "F-statistic: 40.33 on 1 and 10 DF,  p-value: 8.349e-05\n"
            ]
          },
          "metadata": {},
          "output_type": "display_data"
        },
        {
          "data": {
            "text/html": [
              "<table class=\"dataframe\">\n",
              "<caption>A anova: 2 × 5</caption>\n",
              "<thead>\n",
              "\t<tr><th></th><th scope=col>Df</th><th scope=col>Sum Sq</th><th scope=col>Mean Sq</th><th scope=col>F value</th><th scope=col>Pr(&gt;F)</th></tr>\n",
              "\t<tr><th></th><th scope=col>&lt;int&gt;</th><th scope=col>&lt;dbl&gt;</th><th scope=col>&lt;dbl&gt;</th><th scope=col>&lt;dbl&gt;</th><th scope=col>&lt;dbl&gt;</th></tr>\n",
              "</thead>\n",
              "<tbody>\n",
              "\t<tr><th scope=row>Y</th><td> 1</td><td>0.2362753</td><td>0.23627527</td><td>40.32593</td><td>8.348892e-05</td></tr>\n",
              "\t<tr><th scope=row>Residuals</th><td>10</td><td>0.0585914</td><td>0.00585914</td><td>      NA</td><td>          NA</td></tr>\n",
              "</tbody>\n",
              "</table>\n"
            ],
            "text/latex": "A anova: 2 × 5\n\\begin{tabular}{r|lllll}\n  & Df & Sum Sq & Mean Sq & F value & Pr(>F)\\\\\n  & <int> & <dbl> & <dbl> & <dbl> & <dbl>\\\\\n\\hline\n\tY &  1 & 0.2362753 & 0.23627527 & 40.32593 & 8.348892e-05\\\\\n\tResiduals & 10 & 0.0585914 & 0.00585914 &       NA &           NA\\\\\n\\end{tabular}\n",
            "text/markdown": "\nA anova: 2 × 5\n\n| <!--/--> | Df &lt;int&gt; | Sum Sq &lt;dbl&gt; | Mean Sq &lt;dbl&gt; | F value &lt;dbl&gt; | Pr(&gt;F) &lt;dbl&gt; |\n|---|---|---|---|---|---|\n| Y |  1 | 0.2362753 | 0.23627527 | 40.32593 | 8.348892e-05 |\n| Residuals | 10 | 0.0585914 | 0.00585914 |       NA |           NA |\n\n",
            "text/plain": [
              "          Df Sum Sq    Mean Sq    F value  Pr(>F)      \n",
              "Y          1 0.2362753 0.23627527 40.32593 8.348892e-05\n",
              "Residuals 10 0.0585914 0.00585914       NA           NA"
            ]
          },
          "metadata": {},
          "output_type": "display_data"
        },
        {
          "data": {
            "text/plain": [
              "\n",
              "Call:\n",
              "lm(formula = X ~ Z)\n",
              "\n",
              "Residuals:\n",
              "     Min       1Q   Median       3Q      Max \n",
              "-0.09313 -0.05144 -0.00381  0.03478  0.12692 \n",
              "\n",
              "Coefficients:\n",
              "              Estimate Std. Error t value Pr(>|t|)    \n",
              "(Intercept)  1.7956980  0.0742912  24.171 3.34e-10 ***\n",
              "Z           -0.0035685  0.0005635  -6.332 8.55e-05 ***\n",
              "---\n",
              "Signif. codes:  0 ‘***’ 0.001 ‘**’ 0.01 ‘*’ 0.05 ‘.’ 0.1 ‘ ’ 1\n",
              "\n",
              "Residual standard error: 0.07672 on 10 degrees of freedom\n",
              "Multiple R-squared:  0.8004,\tAdjusted R-squared:  0.7804 \n",
              "F-statistic:  40.1 on 1 and 10 DF,  p-value: 8.546e-05\n"
            ]
          },
          "metadata": {},
          "output_type": "display_data"
        },
        {
          "data": {
            "text/html": [
              "<table class=\"dataframe\">\n",
              "<caption>A anova: 2 × 5</caption>\n",
              "<thead>\n",
              "\t<tr><th></th><th scope=col>Df</th><th scope=col>Sum Sq</th><th scope=col>Mean Sq</th><th scope=col>F value</th><th scope=col>Pr(&gt;F)</th></tr>\n",
              "\t<tr><th></th><th scope=col>&lt;int&gt;</th><th scope=col>&lt;dbl&gt;</th><th scope=col>&lt;dbl&gt;</th><th scope=col>&lt;dbl&gt;</th><th scope=col>&lt;dbl&gt;</th></tr>\n",
              "</thead>\n",
              "<tbody>\n",
              "\t<tr><th scope=row>Z</th><td> 1</td><td>0.23600612</td><td>0.236006116</td><td>40.0958</td><td>8.546358e-05</td></tr>\n",
              "\t<tr><th scope=row>Residuals</th><td>10</td><td>0.05886055</td><td>0.005886055</td><td>     NA</td><td>          NA</td></tr>\n",
              "</tbody>\n",
              "</table>\n"
            ],
            "text/latex": "A anova: 2 × 5\n\\begin{tabular}{r|lllll}\n  & Df & Sum Sq & Mean Sq & F value & Pr(>F)\\\\\n  & <int> & <dbl> & <dbl> & <dbl> & <dbl>\\\\\n\\hline\n\tZ &  1 & 0.23600612 & 0.236006116 & 40.0958 & 8.546358e-05\\\\\n\tResiduals & 10 & 0.05886055 & 0.005886055 &      NA &           NA\\\\\n\\end{tabular}\n",
            "text/markdown": "\nA anova: 2 × 5\n\n| <!--/--> | Df &lt;int&gt; | Sum Sq &lt;dbl&gt; | Mean Sq &lt;dbl&gt; | F value &lt;dbl&gt; | Pr(&gt;F) &lt;dbl&gt; |\n|---|---|---|---|---|---|\n| Z |  1 | 0.23600612 | 0.236006116 | 40.0958 | 8.546358e-05 |\n| Residuals | 10 | 0.05886055 | 0.005886055 |      NA |           NA |\n\n",
            "text/plain": [
              "          Df Sum Sq     Mean Sq     F value Pr(>F)      \n",
              "Z          1 0.23600612 0.236006116 40.0958 8.546358e-05\n",
              "Residuals 10 0.05886055 0.005886055      NA           NA"
            ]
          },
          "metadata": {},
          "output_type": "display_data"
        }
      ],
      "source": [
        "##Ahora será cada variable por separado\n",
        "\n",
        "\n",
        "\n",
        "X <- c(1.52, 1.41, 1.16, 1.45, 1.24, 1.21, 1.63, 1.38, 1.37, 1.36, 1.40, 1.03)\n",
        "Y <- c(98, 76, 58,94, 73, 57, 97, 91, 79, 92, 92, 54)\n",
        "Z <- c(77, 139, 179, 95, 142, 186, 82, 100, 125, 96, 99, 190)\n",
        "\n",
        "\n",
        "\n",
        "lm3_model <- lm(X~Y)\n",
        "\n",
        "summary(lm3_model)\n",
        "\n",
        "anova(lm3_model)\n",
        "\n",
        "\n",
        "\n",
        "\n",
        "\n",
        "lm4_model <- lm(X ~ Z)\n",
        "\n",
        "summary(lm4_model)\n",
        "\n",
        "anova(lm4_model)\n"
      ]
    },
    {
      "cell_type": "code",
      "execution_count": null,
      "metadata": {
        "colab": {
          "base_uri": "https://localhost:8080/",
          "height": 1000
        },
        "id": "mH7-5F-shWGH",
        "outputId": "030ec66e-3737-4832-d28d-6578b0e29063"
      },
      "outputs": [
        {
          "output_type": "stream",
          "name": "stdout",
          "text": [
            "Start:  AIC=-3.02\n",
            "y ~ x_1 + x_2 + x_3 + x_4 + x_5 + x_6\n",
            "\n",
            "       Df Sum of Sq     RSS     AIC\n",
            "- x_2   1    0.0195  7.7751 -4.9767\n",
            "- x_1   1    0.5800  8.3356 -3.6543\n",
            "- x_5   1    0.6679  8.4234 -3.4550\n",
            "<none>               7.7556 -3.0245\n",
            "- x_6   1    0.9579  8.7134 -2.8119\n",
            "- x_4   1    4.6491 12.4047  3.8990\n",
            "- x_3   1   11.8852 19.6407 12.6302\n",
            "\n",
            "Step:  AIC=-4.98\n",
            "y ~ x_1 + x_3 + x_4 + x_5 + x_6\n",
            "\n",
            "       Df Sum of Sq     RSS     AIC\n",
            "- x_1   1    0.5852  8.3603 -5.5979\n",
            "- x_5   1    0.8590  8.6341 -4.9857\n",
            "<none>               7.7751 -4.9767\n",
            "- x_6   1    0.9863  8.7615 -4.7075\n",
            "+ x_2   1    0.0195  7.7556 -3.0245\n",
            "- x_4   1    5.4980 13.2731  3.1847\n",
            "- x_3   1   11.9308 19.7059 10.6931\n",
            "\n",
            "Step:  AIC=-5.6\n",
            "y ~ x_3 + x_4 + x_5 + x_6\n",
            "\n",
            "       Df Sum of Sq     RSS     AIC\n",
            "- x_6   1    0.6306  8.9910 -6.2162\n",
            "<none>               8.3603 -5.5979\n",
            "- x_5   1    1.0510  9.4113 -5.3480\n",
            "+ x_1   1    0.5852  7.7751 -4.9767\n",
            "+ x_2   1    0.0248  8.3356 -3.6543\n",
            "- x_4   1    5.1060 13.4664  1.4594\n",
            "- x_3   1   14.0465 22.4068 11.1336\n",
            "\n",
            "Step:  AIC=-6.22\n",
            "y ~ x_3 + x_4 + x_5\n",
            "\n",
            "       Df Sum of Sq     RSS     AIC\n",
            "- x_5   1    0.6475  9.6385 -6.8948\n",
            "<none>               8.9910 -6.2162\n",
            "+ x_6   1    0.6306  8.3603 -5.5979\n",
            "+ x_1   1    0.2295  8.7615 -4.7075\n",
            "+ x_2   1    0.0476  8.9434 -4.3169\n",
            "- x_4   1    4.5512 13.5421 -0.4340\n",
            "- x_3   1   13.4162 22.4072  9.1339\n",
            "\n",
            "Step:  AIC=-6.89\n",
            "y ~ x_3 + x_4\n",
            "\n",
            "       Df Sum of Sq     RSS     AIC\n",
            "<none>               9.6385 -6.8948\n",
            "+ x_5   1    0.6475  8.9910 -6.2162\n",
            "+ x_1   1    0.4211  9.2173 -5.7437\n",
            "+ x_2   1    0.2393  9.3992 -5.3725\n",
            "+ x_6   1    0.2271  9.4113 -5.3480\n",
            "- x_4   1    7.1845 16.8229  1.6878\n",
            "- x_3   1   13.2596 22.8981  7.5457\n"
          ]
        },
        {
          "output_type": "display_data",
          "data": {
            "text/plain": [
              "\n",
              "Call:\n",
              "lm(formula = y ~ x_3 + x_4, data = data)\n",
              "\n",
              "Residuals:\n",
              "    Min      1Q  Median      3Q     Max \n",
              "-1.7213 -0.4496  0.1677  0.4879  1.0514 \n",
              "\n",
              "Coefficients:\n",
              "            Estimate Std. Error t value Pr(>|t|)    \n",
              "(Intercept)  5.32292    5.39778   0.986 0.338747    \n",
              "x_3          0.52613    0.11214   4.692 0.000245 ***\n",
              "x_4         -0.13766    0.03986  -3.453 0.003270 ** \n",
              "---\n",
              "Signif. codes:  0 ‘***’ 0.001 ‘**’ 0.01 ‘*’ 0.05 ‘.’ 0.1 ‘ ’ 1\n",
              "\n",
              "Residual standard error: 0.7761 on 16 degrees of freedom\n",
              "Multiple R-squared:  0.7099,\tAdjusted R-squared:  0.6736 \n",
              "F-statistic: 19.57 on 2 and 16 DF,  p-value: 5.021e-05\n"
            ]
          },
          "metadata": {}
        }
      ],
      "source": [
        "\n",
        "\n",
        "\n",
        "\n",
        "# Crear un marco de datos con tus datos\n",
        "# Crear un marco de datos con tus datos\n",
        "data <- data.frame(y = c(8.0,8.3,8.5,8.8,9.0,9.3,9.3,9.5,9.8,10.0,10.3,10.5,10.8,11.0,11.3,11.5,11.8,12.3,12.5),\n",
        "                   x_1 = c(5.2, 5.2, 5.8, 6.4, 5.8, 5.2, 5.6, 6.0, 5.2, 5.8, 6.4, 6.0, 6.2, 6.2, 6.2, 5.6, 6.0, 5.8, 5.6),\n",
        "                   x_2 = c(19.6, 19.8, 19.6, 19.4, 18.6, 18.8, 20.4, 19.0, 20.8, 19.9, 18.0, 20.6, 20.2, 20.2, 19.2, 17.0, 19.8, 18.8, 18.6),\n",
        "                   x_3 = c(29.6, 32.4, 31.0, 32.4, 28.6, 30.6, 32.4, 32.6, 32.2, 31.8, 32.6, 33.4, 31.8, 34.2, 31.4, 33.2, 35.4, 34.0, 34.2),\n",
        "                   x_4 = c(94.9, 89.7, 96.2, 95.6, 86.5, 84.5, 88.8, 85.7, 93.6, 86.0, 87.1, 93.1, 83.4, 94.5, 83.4, 85.2, 84.1, 86.9, 83.0),\n",
        "                   x_5 = c(2.1, 2.1, 2.0, 2.2, 2.0, 2.1, 2.2, 2.1, 2.3, 2.1, 2.0, 2.1, 2.2, 2.1, 1.9, 2.1, 2.0, 2.1, 1.9),\n",
        "                   x_6 = c(2.3, 1.8, 2.0, 2.1, 1.8, 2.1, 1.9, 1.9, 2.1, 1.8, 1.6, 2.1, 2.1, 1.9, 1.8, 2.1, 1.8, 1.8, 2.0))\n",
        "\n",
        "# Ajustar el modelo lineal inicial\n",
        "initial_model <- lm(y ~ ., data = data)\n",
        "\n",
        "# Aplicar la función step para selección de variables stepwise\n",
        "stepwise_model <- step(initial_model, direction = \"both\",\n",
        "                       scope = list(upper = ~ x_1 + x_2 + x_3 + x_4 + x_5 + x_6, lower = ~ 1),\n",
        "                       k.in = 0.025, k.out = 0.05)\n",
        "\n",
        "# Mostrar el resumen del modelo\n",
        "summary(stepwise_model)\n",
        "\n",
        "##HACER EL MODELO CONX3 Y X4 Y APLICARLE LOS 4 SUPUESTOS\n",
        "\n",
        "\n",
        "#Verificar los residuos del modelo K\n",
        "#1.-Verificar que los residuos tengan media cero\n",
        "#2.-Tengan varianza constante (homocedasticidad, heterocedasticidad)\n",
        "#3.-No correlación\n",
        "#4.-Se distribuyen normalmente\n",
        "\n",
        "#Calculo Residuales\n",
        "residuales_k <- residuals(stepwise_model)\n",
        "# Calcula la media de los residuos para cada modelo\n",
        "media_residuales_k <- mean(residuales_k)\n",
        "# Imprime la media de los residuos para cada modelo debe ser 0\n",
        "print(media_residuales_k)\n",
        "# Calcula la varianza de los residuos para cada modelo\n",
        "varianza_residuales_k <- var(residuales_k)\n",
        "# Imprime la varianza de los residuos para cada modelo\n",
        "print(varianza_residuales_k)\n",
        "#varianza con bptest\n",
        "bp_k <- bptest(rls)\n",
        "print(bp_k)\n",
        "#correlacion con dwtest\n",
        "dw_k <- dwtest(rls)\n",
        "print(dw_k)\n",
        "#distribucion normal shapiro.test\n",
        "sh_k <- shapiro.test(residuales_k) ##hacer el test darlwin\n",
        "print(sh_k)\n"
      ]
    },
    {
      "cell_type": "code",
      "execution_count": null,
      "metadata": {
        "id": "r9fuZqg-pRHV"
      },
      "outputs": [],
      "source": []
    }
  ],
  "metadata": {
    "colab": {
      "provenance": []
    },
    "kernelspec": {
      "display_name": "R",
      "name": "ir"
    },
    "language_info": {
      "name": "R"
    }
  },
  "nbformat": 4,
  "nbformat_minor": 0
}