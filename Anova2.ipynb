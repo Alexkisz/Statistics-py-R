{
  "nbformat": 4,
  "nbformat_minor": 0,
  "metadata": {
    "colab": {
      "provenance": []
    },
    "kernelspec": {
      "name": "ir",
      "display_name": "R"
    },
    "language_info": {
      "name": "R"
    }
  },
  "cells": [
    {
      "cell_type": "code",
      "execution_count": null,
      "metadata": {
        "colab": {
          "base_uri": "https://localhost:8080/",
          "height": 581
        },
        "id": "T-QGvDQGrnRB",
        "outputId": "782ff076-cd6b-4cb2-f01e-8926839ea89f"
      },
      "outputs": [
        {
          "output_type": "display_data",
          "data": {
            "text/html": [
              "<table class=\"dataframe\">\n",
              "<caption>A anova: 2 × 5</caption>\n",
              "<thead>\n",
              "\t<tr><th></th><th scope=col>Df</th><th scope=col>Sum Sq</th><th scope=col>Mean Sq</th><th scope=col>F value</th><th scope=col>Pr(&gt;F)</th></tr>\n",
              "\t<tr><th></th><th scope=col>&lt;int&gt;</th><th scope=col>&lt;dbl&gt;</th><th scope=col>&lt;dbl&gt;</th><th scope=col>&lt;dbl&gt;</th><th scope=col>&lt;dbl&gt;</th></tr>\n",
              "</thead>\n",
              "<tbody>\n",
              "\t<tr><th scope=row>x</th><td> 1</td><td>84973578.2</td><td>84973578.2</td><td>4945.098</td><td>7.34153e-35</td></tr>\n",
              "\t<tr><th scope=row>Residuals</th><td>30</td><td>  515501.9</td><td>   17183.4</td><td>      NA</td><td>         NA</td></tr>\n",
              "</tbody>\n",
              "</table>\n"
            ],
            "text/markdown": "\nA anova: 2 × 5\n\n| <!--/--> | Df &lt;int&gt; | Sum Sq &lt;dbl&gt; | Mean Sq &lt;dbl&gt; | F value &lt;dbl&gt; | Pr(&gt;F) &lt;dbl&gt; |\n|---|---|---|---|---|---|\n| x |  1 | 84973578.2 | 84973578.2 | 4945.098 | 7.34153e-35 |\n| Residuals | 30 |   515501.9 |    17183.4 |       NA |          NA |\n\n",
            "text/latex": "A anova: 2 × 5\n\\begin{tabular}{r|lllll}\n  & Df & Sum Sq & Mean Sq & F value & Pr(>F)\\\\\n  & <int> & <dbl> & <dbl> & <dbl> & <dbl>\\\\\n\\hline\n\tx &  1 & 84973578.2 & 84973578.2 & 4945.098 & 7.34153e-35\\\\\n\tResiduals & 30 &   515501.9 &    17183.4 &       NA &          NA\\\\\n\\end{tabular}\n",
            "text/plain": [
              "          Df Sum Sq     Mean Sq    F value  Pr(>F)     \n",
              "x          1 84973578.2 84973578.2 4945.098 7.34153e-35\n",
              "Residuals 30   515501.9    17183.4       NA          NA"
            ]
          },
          "metadata": {}
        },
        {
          "output_type": "display_data",
          "data": {
            "text/plain": [
              "Plot with title “Gráfico de y”"
            ],
            "image/png": "[encoded data removed]"
          },
          "metadata": {
            "image/png": {
              "width": 420,
              "height": 420
            }
          }
        }
      ],
      "source": [
        "entidades <- c(\"Aguascalientes\", \"Baja California\", \"Baja California Sur\", \"Campeche\", \"Coahuila\", \"Colima\", \"Chiapas\", \"Chihuahua\", \"Distrito Federal\", \"Durango\", \"Guanajuato\", \"Guerrero\", \"Hidalgo\", \"Jalisco\", \"México\", \"Michoacán\", \"Morelos\", \"Nayarit\", \"Nuevo León\", \"Oaxaca\", \"Puebla\", \"Querétaro\", \"Quintana Roo\", \"San Luis Potosí\", \"Sinaloa\", \"Sonora\", \"Tabasco\", \"Tamaulipas\", \"Tlaxcala\", \"Veracruz\", \"Yucatán\", \"Zacatecas\")\n",
        "y <- c(442.9, 984.9, 226.2, 391.0, 885.8, 244.9, 3961.0, 1265.5, 2502.5, 761.2, 2683.3, 2315.4, 1547.8, 2780.2, 8269.9, 2708.6, 993.7, 488.8, 1022.7, 2662.7, 3958.8, 675.7, 553.0, 1338.1, 1167.1, 852.1, 1169.8, 1330.7, 745.1, 4634.2, 957.9, 819.8)\n",
        "x <- c(369.7, 789.1, 175.6, 405.0, 745.9, 248.7, 4114.0, 1150.0, 2434.4, 643.3, 2489.7, 2314.7, 1478.8, 2560.6, 8230.2, 2565.9, 965.9, 470.1, 737.8, 2847.3, 3728.2, 635.7, 471.0, 1267.7, 929.7, 831.4, 1228.1, 1156.2, 701.8, 5049.5, 901.9, 780.3)\n",
        "\n",
        "# Gráfico de dispersión para y1\n",
        "plot(x, y, type = \"p\", pch = 16, col = \"green\", xlab = \"x\", ylab = \"y1\", main = \"Gráfico de y\")\n",
        "\n",
        "rls_y<- lm(y ~ x)\n",
        "\n",
        "anova(rls_y)\n",
        "\n",
        "\n"
      ]
    }
  ]
}