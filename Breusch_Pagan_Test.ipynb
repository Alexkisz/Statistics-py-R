{
  "nbformat": 4,
  "nbformat_minor": 0,
  "metadata": {
    "colab": {
      "provenance": []
    },
    "kernelspec": {
      "name": "python3",
      "display_name": "Python 3"
    },
    "language_info": {
      "name": "python"
    }
  },
  "cells": [
    {
      "cell_type": "code",
      "execution_count": null,
      "metadata": {
        "id": "ZE1lQH19-9ie"
      },
      "outputs": [],
      "source": [
        "x <- c(-5, -4, -3, -2, -1, 0, 1, 2, 3, 4, 5)\n",
        "\n",
        "y <- c(1, 5, 4, 7, 10, 8, 9, 13, 14, 13, 18)\n",
        "\n",
        "residuos <- x-y\n",
        "\n",
        "t.test(x, y, alternative = c(\"two.sided\"), mu = 0, paired = TRUE)\n",
        "\n",
        "install.packages(\"lmtest\")\n",
        "library(lmtest)\n",
        "\n",
        "# Create data frame\n",
        "data <- data.frame(x = c(-5, -4, -3, -2, -1, 0, 1, 2, 3, 4, 5),\n",
        "                   y = c(1, 5, 4, 7, 10, 8, 9, 13, 14, 13, 18))\n",
        "\n",
        "# Fit linear regression model\n",
        "lm_model <- lm(y ~ x, data = data)\n",
        "\n",
        "# Perform Breusch-Pagan Test\n",
        "bp_test <- bptest(lm_model)\n",
        "\n",
        "# Print results\n",
        "print(bp_test)"
      ]
    }
  ]
}