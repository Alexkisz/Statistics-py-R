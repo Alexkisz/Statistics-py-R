{
  "nbformat": 4,
  "nbformat_minor": 0,
  "metadata": {
    "colab": {
      "provenance": []
    },
    "kernelspec": {
      "name": "ir",
      "display_name": "R"
    },
    "language_info": {
      "name": "R"
    }
  },
  "cells": [
    {
      "cell_type": "code",
      "execution_count": null,
      "metadata": {
        "id": "8MS3ERlOBR-n",
        "colab": {
          "base_uri": "https://localhost:8080/",
          "height": 121
        },
        "outputId": "d702749c-dbcf-43c0-ecce-dce0acbd77aa"
      },
      "outputs": [
        {
          "output_type": "display_data",
          "data": {
            "text/plain": [
              "\n",
              "\tWilcoxon rank sum exact test\n",
              "\n",
              "data:  y and x\n",
              "W = 10, p-value = 0.1338\n",
              "alternative hypothesis: true location shift is less than 0\n"
            ]
          },
          "metadata": {}
        }
      ],
      "source": [
        "#crear un vector para cada grupo\n",
        "x <- c (21.3, 18.7, 23, 17.1, 16.8, 20.9, 19.7)\n",
        "y <- c (14.2, 18.3, 17.2, 18.4, 20)\n",
        "\n",
        " wilcox.test (y, x, alternative = \"less\", paired = FALSE,conf.level =0.01)"
      ]
    }
  ]
}